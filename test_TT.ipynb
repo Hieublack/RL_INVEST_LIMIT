{
 "cells": [
  {
   "cell_type": "code",
   "execution_count": 1,
   "metadata": {},
   "outputs": [],
   "source": [
    "import polars as pl\n",
    "import numpy as np\n",
    "import pandas as pd\n",
    "import numba as nb\n",
    "import os\n",
    "from index import*\n",
    "from env import*\n"
   ]
  },
  {
   "cell_type": "code",
   "execution_count": 2,
   "metadata": {},
   "outputs": [
    {
     "data": {
      "text/plain": [
       "48"
      ]
     },
     "execution_count": 2,
     "metadata": {},
     "output_type": "execute_result"
    }
   ],
   "source": [
    "p_state = np.array([0.6231343283582089, 0.7388297872340426, 0.6294117647058823, 0.4715909090909091, 0.6135714285714287, 0.6659420289855073, 1.329126213592233, 1.8684782608695651, 2.0246913580246915, 1.9791666666666667, 1.3049645390070923, 1.0773809523809523, 1.1470588235294117, 1.2, 1.278688524590164, 1.5, 1.0462871618723517, 0.9448421697978826, 19.0, 7.350501493142714e+35, 9.425523354597458e+35, 0.6231343283582089, 0.7388297872340426, 0.6294117647058823, 0.4715909090909091, 0.6135714285714287, 0.6659420289855073, 1.329126213592233, 1.8684782608695651, 2.0246913580246915, 1.9791666666666667, 1.3049645390070923, 1.0773809523809523, 1.1470588235294117, 1.2, 1.278688524590164, 1.5, 1.0462871618723517, 0.9448421697978826, 18.0, 5.688595887556406e+35, 4.336300861834396e+36, 1.0, 1.0, 1.0, 0.0, 0.0, 0.0])\n",
    "\n",
    "\n",
    "\n",
    "len(p_state)"
   ]
  },
  {
   "cell_type": "code",
   "execution_count": 11,
   "metadata": {},
   "outputs": [
    {
     "data": {
      "text/plain": [
       "1.0462871618723517"
      ]
     },
     "execution_count": 11,
     "metadata": {},
     "output_type": "execute_result"
    }
   ],
   "source": [
    "p_state[P_FIRST_GMEAN]"
   ]
  },
  {
   "cell_type": "code",
   "execution_count": 4,
   "metadata": {},
   "outputs": [
    {
     "data": {
      "text/plain": [
       "7.350501493142714e+35"
      ]
     },
     "execution_count": 4,
     "metadata": {},
     "output_type": "execute_result"
    }
   ],
   "source": [
    "ALL_LIMIT[0][20]"
   ]
  },
  {
   "cell_type": "code",
   "execution_count": 13,
   "metadata": {},
   "outputs": [
    {
     "data": {
      "text/plain": [
       "1.8045977011494247"
      ]
     },
     "execution_count": 13,
     "metadata": {},
     "output_type": "execute_result"
    }
   ],
   "source": [
    "ALL_PROFIT[0][20]"
   ]
  },
  {
   "cell_type": "code",
   "execution_count": 6,
   "metadata": {},
   "outputs": [
    {
     "data": {
      "text/plain": [
       "0.9448421697978826"
      ]
     },
     "execution_count": 6,
     "metadata": {},
     "output_type": "execute_result"
    }
   ],
   "source": [
    "hmean(ALL_PROFIT[0][:16])"
   ]
  },
  {
   "cell_type": "code",
   "execution_count": 7,
   "metadata": {},
   "outputs": [
    {
     "data": {
      "text/html": [
       "<div>\n",
       "<style scoped>\n",
       "    .dataframe tbody tr th:only-of-type {\n",
       "        vertical-align: middle;\n",
       "    }\n",
       "\n",
       "    .dataframe tbody tr th {\n",
       "        vertical-align: top;\n",
       "    }\n",
       "\n",
       "    .dataframe thead th {\n",
       "        text-align: right;\n",
       "    }\n",
       "</style>\n",
       "<table border=\"1\" class=\"dataframe\">\n",
       "  <thead>\n",
       "    <tr style=\"text-align: right;\">\n",
       "      <th></th>\n",
       "      <th>SYMBOL</th>\n",
       "      <th>EXCHANGE</th>\n",
       "      <th>TIME</th>\n",
       "      <th>PROFIT</th>\n",
       "      <th>MARKET_CAP</th>\n",
       "      <th>CURRENT ASSETS</th>\n",
       "      <th>Cash and cash equivalents</th>\n",
       "      <th>Cash</th>\n",
       "      <th>Cash equivalents</th>\n",
       "      <th>Short Term Financial Investments</th>\n",
       "      <th>...</th>\n",
       "      <th>General and administration expenses</th>\n",
       "      <th>Net operating profit</th>\n",
       "      <th>Other income</th>\n",
       "      <th>Other expenses</th>\n",
       "      <th>Other profit</th>\n",
       "      <th>Total accounting profit before tax</th>\n",
       "      <th>Current income tax</th>\n",
       "      <th>Deferred income tax</th>\n",
       "      <th>Profit after tax</th>\n",
       "      <th>Net profit after tax of the parent</th>\n",
       "    </tr>\n",
       "  </thead>\n",
       "  <tbody>\n",
       "    <tr>\n",
       "      <th>0</th>\n",
       "      <td>NOT_INVEST</td>\n",
       "      <td>HOSE</td>\n",
       "      <td>92</td>\n",
       "      <td>1.000000</td>\n",
       "      <td>9.468467e+12</td>\n",
       "      <td>4.986414e+12</td>\n",
       "      <td>7.157485e+11</td>\n",
       "      <td>2.840622e+11</td>\n",
       "      <td>4.313711e+11</td>\n",
       "      <td>5.841027e+11</td>\n",
       "      <td>...</td>\n",
       "      <td>2.358154e+11</td>\n",
       "      <td>7.351276e+11</td>\n",
       "      <td>5.406774e+10</td>\n",
       "      <td>3.424368e+10</td>\n",
       "      <td>1.980027e+10</td>\n",
       "      <td>7.571205e+11</td>\n",
       "      <td>1.582448e+11</td>\n",
       "      <td>4.895160e+08</td>\n",
       "      <td>5.988736e+11</td>\n",
       "      <td>5.685004e+11</td>\n",
       "    </tr>\n",
       "    <tr>\n",
       "      <th>1</th>\n",
       "      <td>AAA</td>\n",
       "      <td>HOSE</td>\n",
       "      <td>92</td>\n",
       "      <td>0.000000</td>\n",
       "      <td>3.100000e+12</td>\n",
       "      <td>5.623485e+12</td>\n",
       "      <td>1.655457e+12</td>\n",
       "      <td>1.228607e+12</td>\n",
       "      <td>4.268494e+11</td>\n",
       "      <td>4.361560e+11</td>\n",
       "      <td>...</td>\n",
       "      <td>2.473068e+11</td>\n",
       "      <td>1.839187e+11</td>\n",
       "      <td>7.323958e+09</td>\n",
       "      <td>9.680181e+09</td>\n",
       "      <td>-2.356222e+09</td>\n",
       "      <td>1.815617e+11</td>\n",
       "      <td>7.265925e+10</td>\n",
       "      <td>-3.853180e+09</td>\n",
       "      <td>1.127560e+11</td>\n",
       "      <td>1.975472e+11</td>\n",
       "    </tr>\n",
       "    <tr>\n",
       "      <th>2</th>\n",
       "      <td>AAT</td>\n",
       "      <td>HOSE</td>\n",
       "      <td>92</td>\n",
       "      <td>0.000000</td>\n",
       "      <td>3.480000e+11</td>\n",
       "      <td>4.472210e+11</td>\n",
       "      <td>1.581258e+10</td>\n",
       "      <td>1.581258e+10</td>\n",
       "      <td>0.000000e+00</td>\n",
       "      <td>1.010230e+09</td>\n",
       "      <td>...</td>\n",
       "      <td>1.736932e+10</td>\n",
       "      <td>1.135980e+11</td>\n",
       "      <td>6.584209e+08</td>\n",
       "      <td>1.079498e+09</td>\n",
       "      <td>-4.210768e+08</td>\n",
       "      <td>1.131770e+11</td>\n",
       "      <td>2.285129e+10</td>\n",
       "      <td>0.000000e+00</td>\n",
       "      <td>9.032568e+10</td>\n",
       "      <td>9.032568e+10</td>\n",
       "    </tr>\n",
       "    <tr>\n",
       "      <th>3</th>\n",
       "      <td>ABS</td>\n",
       "      <td>HOSE</td>\n",
       "      <td>92</td>\n",
       "      <td>0.000000</td>\n",
       "      <td>4.840000e+11</td>\n",
       "      <td>1.020679e+12</td>\n",
       "      <td>3.583126e+09</td>\n",
       "      <td>3.583126e+09</td>\n",
       "      <td>0.000000e+00</td>\n",
       "      <td>0.000000e+00</td>\n",
       "      <td>...</td>\n",
       "      <td>1.018778e+10</td>\n",
       "      <td>3.955079e+10</td>\n",
       "      <td>3.509512e+08</td>\n",
       "      <td>1.013317e+09</td>\n",
       "      <td>-6.623654e+08</td>\n",
       "      <td>3.888842e+10</td>\n",
       "      <td>1.184588e+10</td>\n",
       "      <td>0.000000e+00</td>\n",
       "      <td>2.704254e+10</td>\n",
       "      <td>2.704254e+10</td>\n",
       "    </tr>\n",
       "    <tr>\n",
       "      <th>4</th>\n",
       "      <td>ACL</td>\n",
       "      <td>HOSE</td>\n",
       "      <td>92</td>\n",
       "      <td>0.000000</td>\n",
       "      <td>5.870000e+11</td>\n",
       "      <td>1.206780e+12</td>\n",
       "      <td>3.806691e+10</td>\n",
       "      <td>3.806691e+10</td>\n",
       "      <td>0.000000e+00</td>\n",
       "      <td>0.000000e+00</td>\n",
       "      <td>...</td>\n",
       "      <td>4.368854e+10</td>\n",
       "      <td>1.372759e+11</td>\n",
       "      <td>9.622188e+07</td>\n",
       "      <td>2.055397e+09</td>\n",
       "      <td>-1.959175e+09</td>\n",
       "      <td>1.353167e+11</td>\n",
       "      <td>1.618693e+10</td>\n",
       "      <td>4.108935e+08</td>\n",
       "      <td>1.187189e+11</td>\n",
       "      <td>1.187189e+11</td>\n",
       "    </tr>\n",
       "    <tr>\n",
       "      <th>...</th>\n",
       "      <td>...</td>\n",
       "      <td>...</td>\n",
       "      <td>...</td>\n",
       "      <td>...</td>\n",
       "      <td>...</td>\n",
       "      <td>...</td>\n",
       "      <td>...</td>\n",
       "      <td>...</td>\n",
       "      <td>...</td>\n",
       "      <td>...</td>\n",
       "      <td>...</td>\n",
       "      <td>...</td>\n",
       "      <td>...</td>\n",
       "      <td>...</td>\n",
       "      <td>...</td>\n",
       "      <td>...</td>\n",
       "      <td>...</td>\n",
       "      <td>...</td>\n",
       "      <td>...</td>\n",
       "      <td>...</td>\n",
       "      <td>...</td>\n",
       "    </tr>\n",
       "    <tr>\n",
       "      <th>7390</th>\n",
       "      <td>AGF</td>\n",
       "      <td>HOSE</td>\n",
       "      <td>28</td>\n",
       "      <td>0.597410</td>\n",
       "      <td>1.096373e+12</td>\n",
       "      <td>2.746470e+11</td>\n",
       "      <td>1.295624e+10</td>\n",
       "      <td>1.295624e+10</td>\n",
       "      <td>0.000000e+00</td>\n",
       "      <td>2.452173e+10</td>\n",
       "      <td>...</td>\n",
       "      <td>1.577683e+10</td>\n",
       "      <td>5.068815e+10</td>\n",
       "      <td>1.982435e+09</td>\n",
       "      <td>2.179126e+09</td>\n",
       "      <td>-1.966909e+08</td>\n",
       "      <td>5.049146e+10</td>\n",
       "      <td>5.049146e+09</td>\n",
       "      <td>0.000000e+00</td>\n",
       "      <td>4.544232e+10</td>\n",
       "      <td>4.544232e+10</td>\n",
       "    </tr>\n",
       "    <tr>\n",
       "      <th>7391</th>\n",
       "      <td>BMP</td>\n",
       "      <td>HOSE</td>\n",
       "      <td>28</td>\n",
       "      <td>0.564000</td>\n",
       "      <td>3.483350e+12</td>\n",
       "      <td>3.461020e+11</td>\n",
       "      <td>1.022540e+11</td>\n",
       "      <td>1.022540e+11</td>\n",
       "      <td>0.000000e+00</td>\n",
       "      <td>0.000000e+00</td>\n",
       "      <td>...</td>\n",
       "      <td>1.528187e+10</td>\n",
       "      <td>1.084229e+11</td>\n",
       "      <td>5.770233e+08</td>\n",
       "      <td>5.629300e+05</td>\n",
       "      <td>5.764604e+08</td>\n",
       "      <td>1.089993e+11</td>\n",
       "      <td>5.513941e+09</td>\n",
       "      <td>0.000000e+00</td>\n",
       "      <td>1.034854e+11</td>\n",
       "      <td>1.034854e+11</td>\n",
       "    </tr>\n",
       "    <tr>\n",
       "      <th>7392</th>\n",
       "      <td>VSH</td>\n",
       "      <td>HOSE</td>\n",
       "      <td>28</td>\n",
       "      <td>0.524706</td>\n",
       "      <td>1.062500e+13</td>\n",
       "      <td>1.583840e+11</td>\n",
       "      <td>7.275869e+10</td>\n",
       "      <td>7.275869e+10</td>\n",
       "      <td>0.000000e+00</td>\n",
       "      <td>0.000000e+00</td>\n",
       "      <td>...</td>\n",
       "      <td>5.369494e+09</td>\n",
       "      <td>2.085103e+11</td>\n",
       "      <td>0.000000e+00</td>\n",
       "      <td>0.000000e+00</td>\n",
       "      <td>0.000000e+00</td>\n",
       "      <td>2.085103e+11</td>\n",
       "      <td>0.000000e+00</td>\n",
       "      <td>0.000000e+00</td>\n",
       "      <td>2.085103e+11</td>\n",
       "      <td>2.085103e+11</td>\n",
       "    </tr>\n",
       "    <tr>\n",
       "      <th>7393</th>\n",
       "      <td>TYA</td>\n",
       "      <td>HOSE</td>\n",
       "      <td>28</td>\n",
       "      <td>0.518450</td>\n",
       "      <td>1.713390e+12</td>\n",
       "      <td>8.734550e+11</td>\n",
       "      <td>3.927625e+10</td>\n",
       "      <td>3.927625e+10</td>\n",
       "      <td>0.000000e+00</td>\n",
       "      <td>0.000000e+00</td>\n",
       "      <td>...</td>\n",
       "      <td>1.996985e+10</td>\n",
       "      <td>4.659002e+10</td>\n",
       "      <td>9.592896e+09</td>\n",
       "      <td>1.734758e+08</td>\n",
       "      <td>9.419420e+09</td>\n",
       "      <td>5.600944e+10</td>\n",
       "      <td>3.535409e+09</td>\n",
       "      <td>0.000000e+00</td>\n",
       "      <td>5.247403e+10</td>\n",
       "      <td>5.247403e+10</td>\n",
       "    </tr>\n",
       "    <tr>\n",
       "      <th>7394</th>\n",
       "      <td>SAM</td>\n",
       "      <td>HOSE</td>\n",
       "      <td>28</td>\n",
       "      <td>0.487288</td>\n",
       "      <td>8.835705e+12</td>\n",
       "      <td>1.416180e+12</td>\n",
       "      <td>4.390442e+10</td>\n",
       "      <td>4.390442e+10</td>\n",
       "      <td>0.000000e+00</td>\n",
       "      <td>0.000000e+00</td>\n",
       "      <td>...</td>\n",
       "      <td>5.049529e+10</td>\n",
       "      <td>2.078354e+11</td>\n",
       "      <td>1.424328e+10</td>\n",
       "      <td>1.899868e+09</td>\n",
       "      <td>1.234341e+10</td>\n",
       "      <td>2.201789e+11</td>\n",
       "      <td>1.639984e+10</td>\n",
       "      <td>0.000000e+00</td>\n",
       "      <td>2.037790e+11</td>\n",
       "      <td>2.037790e+11</td>\n",
       "    </tr>\n",
       "  </tbody>\n",
       "</table>\n",
       "<p>7395 rows × 79 columns</p>\n",
       "</div>"
      ],
      "text/plain": [
       "          SYMBOL EXCHANGE  TIME    PROFIT    MARKET_CAP  CURRENT ASSETS  \\\n",
       "0     NOT_INVEST     HOSE    92  1.000000  9.468467e+12    4.986414e+12   \n",
       "1            AAA     HOSE    92  0.000000  3.100000e+12    5.623485e+12   \n",
       "2            AAT     HOSE    92  0.000000  3.480000e+11    4.472210e+11   \n",
       "3            ABS     HOSE    92  0.000000  4.840000e+11    1.020679e+12   \n",
       "4            ACL     HOSE    92  0.000000  5.870000e+11    1.206780e+12   \n",
       "...          ...      ...   ...       ...           ...             ...   \n",
       "7390         AGF     HOSE    28  0.597410  1.096373e+12    2.746470e+11   \n",
       "7391         BMP     HOSE    28  0.564000  3.483350e+12    3.461020e+11   \n",
       "7392         VSH     HOSE    28  0.524706  1.062500e+13    1.583840e+11   \n",
       "7393         TYA     HOSE    28  0.518450  1.713390e+12    8.734550e+11   \n",
       "7394         SAM     HOSE    28  0.487288  8.835705e+12    1.416180e+12   \n",
       "\n",
       "      Cash and cash equivalents          Cash  Cash equivalents  \\\n",
       "0                  7.157485e+11  2.840622e+11      4.313711e+11   \n",
       "1                  1.655457e+12  1.228607e+12      4.268494e+11   \n",
       "2                  1.581258e+10  1.581258e+10      0.000000e+00   \n",
       "3                  3.583126e+09  3.583126e+09      0.000000e+00   \n",
       "4                  3.806691e+10  3.806691e+10      0.000000e+00   \n",
       "...                         ...           ...               ...   \n",
       "7390               1.295624e+10  1.295624e+10      0.000000e+00   \n",
       "7391               1.022540e+11  1.022540e+11      0.000000e+00   \n",
       "7392               7.275869e+10  7.275869e+10      0.000000e+00   \n",
       "7393               3.927625e+10  3.927625e+10      0.000000e+00   \n",
       "7394               4.390442e+10  4.390442e+10      0.000000e+00   \n",
       "\n",
       "      Short Term Financial Investments  ...  \\\n",
       "0                         5.841027e+11  ...   \n",
       "1                         4.361560e+11  ...   \n",
       "2                         1.010230e+09  ...   \n",
       "3                         0.000000e+00  ...   \n",
       "4                         0.000000e+00  ...   \n",
       "...                                ...  ...   \n",
       "7390                      2.452173e+10  ...   \n",
       "7391                      0.000000e+00  ...   \n",
       "7392                      0.000000e+00  ...   \n",
       "7393                      0.000000e+00  ...   \n",
       "7394                      0.000000e+00  ...   \n",
       "\n",
       "      General and administration expenses  Net operating profit  Other income  \\\n",
       "0                            2.358154e+11          7.351276e+11  5.406774e+10   \n",
       "1                            2.473068e+11          1.839187e+11  7.323958e+09   \n",
       "2                            1.736932e+10          1.135980e+11  6.584209e+08   \n",
       "3                            1.018778e+10          3.955079e+10  3.509512e+08   \n",
       "4                            4.368854e+10          1.372759e+11  9.622188e+07   \n",
       "...                                   ...                   ...           ...   \n",
       "7390                         1.577683e+10          5.068815e+10  1.982435e+09   \n",
       "7391                         1.528187e+10          1.084229e+11  5.770233e+08   \n",
       "7392                         5.369494e+09          2.085103e+11  0.000000e+00   \n",
       "7393                         1.996985e+10          4.659002e+10  9.592896e+09   \n",
       "7394                         5.049529e+10          2.078354e+11  1.424328e+10   \n",
       "\n",
       "      Other expenses  Other profit  Total accounting profit before tax  \\\n",
       "0       3.424368e+10  1.980027e+10                        7.571205e+11   \n",
       "1       9.680181e+09 -2.356222e+09                        1.815617e+11   \n",
       "2       1.079498e+09 -4.210768e+08                        1.131770e+11   \n",
       "3       1.013317e+09 -6.623654e+08                        3.888842e+10   \n",
       "4       2.055397e+09 -1.959175e+09                        1.353167e+11   \n",
       "...              ...           ...                                 ...   \n",
       "7390    2.179126e+09 -1.966909e+08                        5.049146e+10   \n",
       "7391    5.629300e+05  5.764604e+08                        1.089993e+11   \n",
       "7392    0.000000e+00  0.000000e+00                        2.085103e+11   \n",
       "7393    1.734758e+08  9.419420e+09                        5.600944e+10   \n",
       "7394    1.899868e+09  1.234341e+10                        2.201789e+11   \n",
       "\n",
       "      Current income tax  Deferred income tax  Profit after tax  \\\n",
       "0           1.582448e+11         4.895160e+08      5.988736e+11   \n",
       "1           7.265925e+10        -3.853180e+09      1.127560e+11   \n",
       "2           2.285129e+10         0.000000e+00      9.032568e+10   \n",
       "3           1.184588e+10         0.000000e+00      2.704254e+10   \n",
       "4           1.618693e+10         4.108935e+08      1.187189e+11   \n",
       "...                  ...                  ...               ...   \n",
       "7390        5.049146e+09         0.000000e+00      4.544232e+10   \n",
       "7391        5.513941e+09         0.000000e+00      1.034854e+11   \n",
       "7392        0.000000e+00         0.000000e+00      2.085103e+11   \n",
       "7393        3.535409e+09         0.000000e+00      5.247403e+10   \n",
       "7394        1.639984e+10         0.000000e+00      2.037790e+11   \n",
       "\n",
       "      Net profit after tax of the parent  \n",
       "0                           5.685004e+11  \n",
       "1                           1.975472e+11  \n",
       "2                           9.032568e+10  \n",
       "3                           2.704254e+10  \n",
       "4                           1.187189e+11  \n",
       "...                                  ...  \n",
       "7390                        4.544232e+10  \n",
       "7391                        1.034854e+11  \n",
       "7392                        2.085103e+11  \n",
       "7393                        5.247403e+10  \n",
       "7394                        2.037790e+11  \n",
       "\n",
       "[7395 rows x 79 columns]"
      ]
     },
     "execution_count": 7,
     "metadata": {},
     "output_type": "execute_result"
    }
   ],
   "source": [
    "data = pd.read_csv('Data_YearFromQuarter.csv')\n",
    "data"
   ]
  },
  {
   "cell_type": "code",
   "execution_count": 10,
   "metadata": {},
   "outputs": [
    {
     "data": {
      "text/plain": [
       "19.0"
      ]
     },
     "execution_count": 10,
     "metadata": {},
     "output_type": "execute_result"
    }
   ],
   "source": [
    "p_state[P_FIRST_RANK_NOT_INVEST]"
   ]
  },
  {
   "cell_type": "code",
   "execution_count": 9,
   "metadata": {},
   "outputs": [
    {
     "data": {
      "text/plain": [
       "19.0"
      ]
     },
     "execution_count": 9,
     "metadata": {},
     "output_type": "execute_result"
    }
   ],
   "source": [
    "ALL_RANK_NOT_INVEST[0][20]"
   ]
  },
  {
   "cell_type": "code",
   "execution_count": 5,
   "metadata": {},
   "outputs": [
    {
     "data": {
      "text/plain": [
       "array([1.20627715e+38, 1.26636260e+38, 1.03847738e+38, 1.11919425e+38,\n",
       "       1.22884055e+38, 1.83609172e+38, 1.91732255e+38, 1.26691016e+38,\n",
       "       5.36071639e+37, 8.58034574e+37, 1.62868774e+38, 2.29153506e+38,\n",
       "       2.22087400e+38, 1.86673191e+38, 1.83139412e+38, 2.37439136e+38,\n",
       "       4.70301345e+38, 1.04251609e+39, 8.95169792e+38, 7.90576687e+38,\n",
       "       2.74253398e+39, 3.20861204e+39, 3.38981609e+39, 3.82895394e+39,\n",
       "       1.68121440e+40, 2.28256735e+40, 2.75601919e+40, 2.27889569e+40,\n",
       "       2.68509549e+40, 3.47313459e+40, 4.30215350e+40, 3.44676269e+40,\n",
       "       2.54405510e+40, 3.03306866e+40, 7.60299736e+40, 7.97461992e+40,\n",
       "       1.07268207e+41, 1.34060572e+41, 1.07144466e+41, 1.22860172e+41,\n",
       "       1.38186261e+41, 1.19199126e+41, 1.48869678e+41, 2.61336704e+41,\n",
       "       4.06461202e+41, 2.05419016e+42, 2.24498048e+42, 9.06658007e+41,\n",
       "       1.11015045e+42, 1.64799339e+42, 2.48948484e+42, 1.44186135e+42,\n",
       "       1.61230229e+42, 1.12417304e+42, 2.01658079e+42, 1.42396387e+42,\n",
       "       4.96628284e+42, 4.72375368e+42, 6.26927011e+42, 6.24898844e+42,\n",
       "       6.29914543e+42, 3.29033066e+42])"
      ]
     },
     "execution_count": 5,
     "metadata": {},
     "output_type": "execute_result"
    }
   ],
   "source": [
    "ALL_VALUE[0]"
   ]
  },
  {
   "cell_type": "code",
   "execution_count": null,
   "metadata": {},
   "outputs": [],
   "source": []
  }
 ],
 "metadata": {
  "kernelspec": {
   "display_name": "Python 3",
   "language": "python",
   "name": "python3"
  },
  "language_info": {
   "codemirror_mode": {
    "name": "ipython",
    "version": 3
   },
   "file_extension": ".py",
   "mimetype": "text/x-python",
   "name": "python",
   "nbconvert_exporter": "python",
   "pygments_lexer": "ipython3",
   "version": "3.10.4"
  },
  "orig_nbformat": 4,
  "vscode": {
   "interpreter": {
    "hash": "a42ccb73e7d9bfdf27e036f1d2b8b681e55fc0743cc5586bc2474d4a60f4b886"
   }
  }
 },
 "nbformat": 4,
 "nbformat_minor": 2
}

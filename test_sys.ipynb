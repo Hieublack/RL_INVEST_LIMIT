{
 "cells": [
  {
   "cell_type": "code",
   "execution_count": 1,
   "metadata": {},
   "outputs": [],
   "source": [
    "import polars as pl\n",
    "import numpy as np\n",
    "import pandas as pd\n",
    "import numba as nb\n",
    "import os\n",
    "from index import*\n",
    "from env import*\n",
    "\n"
   ]
  },
  {
   "cell_type": "code",
   "execution_count": 2,
   "metadata": {},
   "outputs": [],
   "source": [
    "\n",
    "@njit()\n",
    "def random_Env2(p_state, per):\n",
    "    arr_action = getValidActions(p_state)\n",
    "    arr_action = np.where(arr_action == 1)[0]\n",
    "    act_idx = np.random.randint(0, len(arr_action))\n",
    "    # print(list(p_state))\n",
    "    return arr_action[act_idx], per\n"
   ]
  },
  {
   "cell_type": "code",
   "execution_count": 3,
   "metadata": {},
   "outputs": [
    {
     "data": {
      "text/plain": [
       "([506, 494, 0], array([0., 0., 0., 0., 0.]))"
      ]
     },
     "execution_count": 3,
     "metadata": {},
     "output_type": "execute_result"
    }
   ],
   "source": [
    "list_player = [random_Env2] + [random_Env]*(NUMBER_PLAYER - 1)\n",
    "file_per = np.zeros(5)\n",
    "\n",
    "result, per = normal_main(list_player, 1000, file_per)\n",
    "result, per\n",
    "\n",
    "\n"
   ]
  },
  {
   "cell_type": "code",
   "execution_count": 4,
   "metadata": {},
   "outputs": [
    {
     "data": {
      "text/plain": [
       "48"
      ]
     },
     "execution_count": 4,
     "metadata": {},
     "output_type": "execute_result"
    }
   ],
   "source": [
    "P_LENGTH"
   ]
  },
  {
   "cell_type": "code",
   "execution_count": 8,
   "metadata": {},
   "outputs": [
    {
     "data": {
      "text/plain": [
       "array([1.18813924, 7.32718926, 0.        , 0.        , 0.        ,\n",
       "       1.        ])"
      ]
     },
     "execution_count": 8,
     "metadata": {},
     "output_type": "execute_result"
    }
   ],
   "source": [
    "p_state = np.array([2.895842696629214, 1.91, 1.4740813810110975, 1.1031781701444625, 1.115695067264574, 1.278705636743215, 1.103846153846154, 0.8181818181818181, 0.7312186978297162, 0.7635814889336017, 0.8653846153846153, 1.4063157894736842, 1.3580402010050252, 1.4675033025099076, 1.144244984160507, 0.864741641337386, 1.100184975066925, 1.023351839622221, 2.060658221659334e+38, 0.7651041666666667, 1.0, 1.4461778471138846, 1.42, 0.8778625954198473, 1.1594202898550725, 1.1685744016649324, 1.0677134445534835, 0.9668508287292816, 0.6126042632066727, 0.7156862745098039, 0.6918714555765596, 0.9161816065192084, 1.2653061224489797, 1.3884892086330936, 1.7556497175141244, 1.489873417721519, 1.3074204946996466, 1.155503390471762, 1.057684390147159, 1.200054639623964e+39, np.nan, 3.0, 1.1881392367287749, 7.32718925642264, 0.0, 0.0, 0.0, 1.0])\n",
    "\n",
    "p_state[P_PROFIT_MULTI:]\n"
   ]
  },
  {
   "cell_type": "code",
   "execution_count": 9,
   "metadata": {},
   "outputs": [
    {
     "data": {
      "text/plain": [
       "nan"
      ]
     },
     "execution_count": 9,
     "metadata": {},
     "output_type": "execute_result"
    }
   ],
   "source": [
    "p_state[P_SECOND_LIMIT]\n"
   ]
  },
  {
   "cell_type": "code",
   "execution_count": 12,
   "metadata": {},
   "outputs": [
    {
     "data": {
      "text/plain": [
       "nan"
      ]
     },
     "execution_count": 12,
     "metadata": {},
     "output_type": "execute_result"
    }
   ],
   "source": [
    "env_state = np.array([2.895842696629214, 1.91, 1.4740813810110975, 1.1031781701444625, 1.115695067264574, 1.278705636743215, 1.103846153846154, 0.8181818181818181, 0.7312186978297162, 0.7635814889336017, 0.8653846153846153, 1.4063157894736842, 1.3580402010050252, 1.4675033025099076, 1.144244984160507, 0.864741641337386, 1.100184975066925, 1.023351839622221, 2.060658221659334e+38, 0.7651041666666667, 1.0, 1.4461778471138846, 1.42, 0.8778625954198473, 1.1594202898550725, 1.1685744016649324, 1.0677134445534835, 0.9668508287292816, 0.6126042632066727, 0.7156862745098039, 0.6918714555765596, 0.9161816065192084, 1.2653061224489797, 1.3884892086330936, 1.7556497175141244, 1.489873417721519, 1.3074204946996466, 1.155503390471762, 1.057684390147159, 1.200054639623964e+39, np.nan, 3.0, 0.0, 0.0, 0.0, 0.0, 0.0273224043715847, 0.0291120815138282, 7.32718925642264, 1.1881392367287749, 1.0, 0.0, 62.0, 0.0, 0.0, 0.0, 0.7651041666666667, 0.7388297872340426, 0.6294117647058823, 0.4715909090909091, 0.6135714285714287, 0.7749999999999999, 0.8743362831858407, 0.9281183932346724, 1.0451612903225806, 0.8333333333333333, 1.3049645390070923, 1.0773809523809523, 1.1470588235294117, 1.802806722689076, 1.278688524590164, 1.2917333333333332, 1.2255670103092784, 0.8172727272727273, 0.9378605769230768, 0.73046875, 0.959221186440678, 1.0314932692307692, 1.071815286624204, 1.1381410256410258, 1.7278617710583155, 1.8468468468468469, 1.7587786259541984, 1.6852713178294574, 1.0649350649350648, 0.6938775510204082, 0.5344827586206896, 0.4826923076923077, 1.260682302771855, 1.333846153846154, 1.329418604651163, 1.2888982261640798, 1.2700960439560438, 1.0489499047619049, 1.2167785234899329, 1.3707602339181286, 2.042452830188679, 3.094059405940594, 2.895842696629214, 1.91, 1.4740813810110975, 1.1031781701444625, 1.115695067264574, 1.278705636743215, 1.103846153846154, 0.8181818181818181, 0.7312186978297162, 0.7635814889336017, 0.8653846153846153, 1.4063157894736842, 1.3580402010050252, 1.4675033025099076, 1.144244984160507, 0.864741641337386, 0.7208077260755047, 0.5703883495145631, 0.608273, 0.0291120815138282, 1.2062771475342336e+38, 1.266362596723626e+38, 1.0384773763974978e+38, 1.1191942545286488e+38, 1.2288405460068843e+38, 1.836091722816e+38, 1.9173225493905496e+38, 1.266910164847497e+38, 5.3607163866496315e+37, 8.580345743180303e+37, 1.6286877402806166e+38, 2.2915350635720827e+38, 2.2208739983506316e+38, 1.8667319132370513e+38, 1.8313941170931134e+38, 2.3743913552871165e+38, 4.703013454896677e+38, 1.0425160906422898e+39, 8.951697919588213e+38, 7.905766867855314e+38, 2.742533979113667e+39, 3.2086120354942854e+39, 3.389816085848676e+39, 3.828953940827399e+39, 1.6812144028614886e+40, 2.2825673477354814e+40, 2.75601918987805e+40, 2.2788956898601313e+40, 2.6850954945064253e+40, 3.4731345938905e+40, 4.30215350315244e+40, 3.4467626894729603e+40, 2.5440551039945665e+40, 3.033068661767275e+40, 7.602997357021108e+40, 7.974619920435245e+40, 1.0726820710435814e+41, 1.3406057235463e+41, 1.0714446641788176e+41, 1.2286017165805455e+41, 1.381862608996812e+41, 1.1919912588043705e+41, 1.4886967826771958e+41, 2.6133670408354923e+41, 4.064612017781216e+41, 2.0541901566643894e+42, 2.2449804828778178e+42, 9.066580069519544e+41, 1.1101504468746003e+42, 1.6479933928464442e+42, 2.4894848372179885e+42, 1.4418613457152544e+42, 1.6123022949207934e+42, 1.1241730385039754e+42, 2.0165807903766272e+42, 1.4239638736670475e+42, 4.966282835172979e+42, 4.723753681162602e+42, 6.269270105448798e+42, 6.248988435359402e+42, 6.299145427771027e+42, 3.290330659473629e+42, 1.0, 1.0, 4.0, 4.0, 6.0, 6.0, 9.0, 8.0, 7.0, 7.0, 10.0, 18.0, 16.0, 23.0, 19.0, 17.0, 20.0, 15.0, 11.0, 13.0, 12.0, 17.0, 10.0, 9.0, 14.0, 13.0, 16.0, 17.0, 17.0, 19.0, 18.0, 19.0, 19.0, 19.0, 21.0, 24.0, 22.0, 26.0, 23.0, 25.0, 24.0, 30.0, 36.0, 35.0, 37.0, 35.0, 35.0, 31.0, 31.0, 31.0, 30.0, 29.0, 29.0, 29.0, 27.0, 32.0, 33.0, 33.0, 35.0, 41.0, 43.0, 41.0, 2.060658221659334e+38, 1.6438799774403063e+38, 1.6458899686477729e+38, 1.803580829943407e+38, 1.8417665002917668e+38, 1.9207061170603673e+38, 1.957416166391661e+38, 1.87118005492528e+38, 1.6364746465777588e+38, 1.5486918703702511e+38, 1.5186037993043517e+38, 1.5618424039215535e+38, 1.58786732249141e+38, 1.540108267084803e+38, 1.5326711117556771e+38, 1.5501799868673225e+38, 1.635077799330944e+38, 1.8327525377251682e+38, 1.9990467513468807e+38, 2.1751986325572865e+38, 2.459076191490616e+38, 2.759729252778392e+38, 3.068444014137302e+38, 3.3903935607936603e+38, 3.877614888089946e+38, 4.4298480515933995e+38, 5.055305790571433e+38, 5.684898138541254e+38, 6.4790722461941306e+38, 7.489342426756406e+38, 8.709029645649009e+38, 9.994823287838967e+38, 1.0947753011215146e+39, 1.1969432631276833e+39, 1.3367559396294439e+39, 1.4870114880819617e+39, 1.6585492850036418e+39, 1.8594370710372052e+39, 2.052767970189193e+39, 2.256018240135687e+39, 2.4511295778023954e+39, 2.6172877032005336e+39, 2.804951872321193e+39, 3.064040785495077e+39, 3.38626761600129e+39, 3.8841182639838295e+39, 4.436547096772038e+39, 4.931215807590099e+39, 5.496510421717953e+39, 6.185394836700641e+39, 7.000137014795895e+39, 7.795712270764273e+39, 8.644321765847071e+39, 9.400234562562665e+39, 1.0306532738908386e+40, 1.117787235773894e+40, 1.241031736973681e+40, 1.3783595139972822e+40, 1.537519842521174e+40, 1.7154090687700755e+40, 1.9052625864169818e+40, 2.191861399565264e+40, 0.7651041666666667, 0.7388297872340426, 0.6294117647058823, 0.4715909090909091, 0.6135714285714287, 0.6659420289855073, 1.329126213592233, 1.8684782608695651, 2.0246913580246915, 1.9791666666666667, 1.3049645390070923, 1.0773809523809523, 1.1470588235294117, 1.2, 1.278688524590164, 1.5, 1.4090909090909092, 1.3154205607476634, 1.2149122807017545, 1.3645833333333333, 1.8045977011494247, 2.055555555555556, 2.1784313725490194, 1.6984251968503936, 1.7278617710583155, 1.8468468468468469, 1.7587786259541984, 1.6852713178294574, 1.0649350649350648, 0.6938775510204082, 0.5344827586206896, 0.4826923076923077, 0.4930817610062893, 0.846875, 1.0862068965517242, 1.4526315789473685, 1.3142857142857145, 1.1623762376237623, 1.1355371900826448, 1.1589895988112928, 2.0983333333333336, 1.94, 1.4461778471138846, 1.42, 0.8778625954198473, 1.1594202898550725, 1.1685744016649324, 1.0677134445534835, 0.9668508287292816, 0.6126042632066727, 0.7156862745098039, 0.6918714555765596, 0.9161816065192084, 1.2653061224489797, 1.3884892086330936, 1.7556497175141244, 1.489873417721519, 1.3074204946996466, 1.2002164502164503, 0.91869918699187, 0.955536, 0.0273224043715847, 7.024932482035506e+38, 7.313168802847679e+38, 5.4867900908445375e+38, 6.2565554877677305e+38, 4.483192407432284e+38, 4.528679452808929e+38, 2.654512746092199e+38, 2.2097404966023e+38, 1.7488552952318584e+38, 2.6029292678615785e+38, 9.427085282695825e+38, 1.444568966205816e+39, 1.5656767657163692e+39, 2.0129600121791308e+39, 2.004123824274183e+39, 1.9076787135326026e+39, 2.3673794600271998e+39, 3.371706581756128e+39, 4.410868099187217e+39, 7.450556873792727e+39, 2.1255174134765293e+39, 2.719190788305697e+39, 4.142761277453639e+39, 7.404604225272971e+39, 1.207792371397496e+40, 1.71343260676215e+40, 6.52553266884725e+40, 6.329205096282338e+40, 1.815265331616275e+41, 2.9479378753944698e+41, 3.3667056766376e+41, 2.6960762995296003e+41, 1.7313709587128042e+41, 1.7119179592902277e+41, 1.406897008520575e+41, 9.442842401928866e+40, 7.532486384326603e+40, 1.0762318797401743e+41, 1.7794548724798406e+41, 2.2011319634505845e+41, 1.7666643466632843e+41, 1.4844887912934541e+41, 2.2337139342963745e+41, 3.0579756378165712e+41, 5.9745784844774e+41, 5.827273539051395e+41, 5.0279173570095456e+41, 5.6531397713119564e+41, 4.459010692041376e+41, 7.341134099561429e+41, 7.220657748487635e+41, 7.768689292558738e+41, 5.093658421853249e+41, 3.2485662033450537e+41, 3.3360279542592166e+41, 3.4619962040552606e+41, 4.310367053989291e+41, 4.978235671979707e+41, 6.584694214887632e+41, 1.1668147005424723e+42, 1.0146552457968018e+42, 9.29814574811823e+41, 3.0, 4.0, 6.0, 7.0, 7.0, 7.0, 6.0, 6.0, 7.0, 6.0, 10.0, 14.0, 12.0, 16.0, 16.0, 11.0, 15.0, 11.0, 5.0, 8.0, 6.0, 14.0, 9.0, 5.0, 13.0, 13.0, 13.0, 14.0, 15.0, 13.0, 15.0, 15.0, 14.0, 17.0, 17.0, 20.0, 20.0, 21.0, 19.0, 18.0, 18.0, 21.0, 29.0, 26.0, 27.0, 25.0, 26.0, 22.0, 19.0, 18.0, 19.0, 20.0, 20.0, 22.0, 21.0, 23.0, 27.0, 31.0, 31.0, 33.0, 34.0, 35.0, 1.200054639623964e+39, 9.533259051185543e+38, 9.253132038156808e+38, 1.012532655213672e+39, 9.485750138413772e+38, 8.973921375105094e+38, 6.056209706616369e+38, 4.510036731710039e+38, 4.085997019749682e+38, 3.9214179619594665e+38, 4.3335837633789956e+38, 4.7612831719761795e+38, 5.1630703498494155e+38, 5.6164425157964035e+38, 6.014154064694568e+38, 6.302342676599471e+38, 6.6765276435445906e+38, 7.194624354890799e+38, 7.834415460526901e+38, 8.633078743624483e+38, 8.761740690131149e+38, 8.927361598837201e+38, 9.225764883744235e+38, 9.842481172057774e+38, 1.064534498977047e+39, 1.1569756466816451e+39, 1.3155427921584577e+39, 1.4828245852380674e+39, 1.7463948434718497e+39, 2.0973884658425237e+39, 2.5211646928805174e+39, 2.984673707103378e+39, 3.4485897770558655e+39, 3.887247441795275e+39, 4.296829458246407e+39, 4.633618938716729e+39, 4.9595548816674065e+39, 5.3566482980642065e+39, 5.84100814523148e+39, 6.372205602804457e+39, 6.786267809026156e+39, 7.189224517457083e+39, 7.720788753919096e+39, 8.327479634554946e+39, 9.183550678978413e+39, 1.0018388874011776e+40, 1.0852783994704443e+40, 1.17683058761092e+40, 1.2683161459237563e+40, 1.3891035895769502e+40, 1.5108702563853916e+40, 1.641382394851274e+40, 1.7541819902739442e+40, 1.8435568174619862e+40, 1.9316561064979457e+40, 2.0134782129808635e+40, 2.1098545302081148e+40, 2.217760854801008e+40, 2.3416986587128087e+40, 2.5028565929551195e+40, 2.661451248485458e+40, 2.9869470932174256e+40])\n",
    "\n",
    "\n",
    "\n",
    "p_state = getAgentState(env_state)\n",
    "p_state[P_SECOND_LIMIT]"
   ]
  },
  {
   "cell_type": "code",
   "execution_count": 13,
   "metadata": {},
   "outputs": [
    {
     "data": {
      "text/plain": [
       "62.0"
      ]
     },
     "execution_count": 13,
     "metadata": {},
     "output_type": "execute_result"
    }
   ],
   "source": [
    "env_state[ENV_CURRENT_QUARTER]"
   ]
  },
  {
   "cell_type": "code",
   "execution_count": 14,
   "metadata": {},
   "outputs": [
    {
     "ename": "IndexError",
     "evalue": "index 62 is out of bounds for axis 0 with size 62",
     "output_type": "error",
     "traceback": [
      "\u001b[1;31m---------------------------------------------------------------------------\u001b[0m",
      "\u001b[1;31mIndexError\u001b[0m                                Traceback (most recent call last)",
      "\u001b[1;32mc:\\Users\\Admin\\Desktop\\FEB_2023_VIS\\SYSTEM\\RL_INVEST_LIMIT\\test_sys.ipynb Cell 11\u001b[0m in \u001b[0;36m<cell line: 1>\u001b[1;34m()\u001b[0m\n\u001b[1;32m----> <a href='vscode-notebook-cell:/c%3A/Users/Admin/Desktop/FEB_2023_VIS/SYSTEM/RL_INVEST_LIMIT/test_sys.ipynb#X22sZmlsZQ%3D%3D?line=0'>1</a>\u001b[0m ALL_LIMIT[\u001b[39m0\u001b[39;49m][\u001b[39m62\u001b[39;49m]\n",
      "\u001b[1;31mIndexError\u001b[0m: index 62 is out of bounds for axis 0 with size 62"
     ]
    }
   ],
   "source": [
    "ALL_LIMIT[0][62]"
   ]
  },
  {
   "cell_type": "code",
   "execution_count": 10,
   "metadata": {},
   "outputs": [
    {
     "data": {
      "text/plain": [
       "array([1.20005464e+39, 9.53325905e+38, 9.25313204e+38, 1.01253266e+39,\n",
       "       9.48575014e+38, 8.97392138e+38, 6.05620971e+38, 4.51003673e+38,\n",
       "       4.08599702e+38, 3.92141796e+38, 4.33358376e+38, 4.76128317e+38,\n",
       "       5.16307035e+38, 5.61644252e+38, 6.01415406e+38, 6.30234268e+38,\n",
       "       6.67652764e+38, 7.19462435e+38, 7.83441546e+38, 8.63307874e+38,\n",
       "       8.76174069e+38, 8.92736160e+38, 9.22576488e+38, 9.84248117e+38,\n",
       "       1.06453450e+39, 1.15697565e+39, 1.31554279e+39, 1.48282459e+39,\n",
       "       1.74639484e+39, 2.09738847e+39, 2.52116469e+39, 2.98467371e+39,\n",
       "       3.44858978e+39, 3.88724744e+39, 4.29682946e+39, 4.63361894e+39,\n",
       "       4.95955488e+39, 5.35664830e+39, 5.84100815e+39, 6.37220560e+39,\n",
       "       6.78626781e+39, 7.18922452e+39, 7.72078875e+39, 8.32747963e+39,\n",
       "       9.18355068e+39, 1.00183889e+40, 1.08527840e+40, 1.17683059e+40,\n",
       "       1.26831615e+40, 1.38910359e+40, 1.51087026e+40, 1.64138239e+40,\n",
       "       1.75418199e+40, 1.84355682e+40, 1.93165611e+40, 2.01347821e+40,\n",
       "       2.10985453e+40, 2.21776085e+40, 2.34169866e+40, 2.50285659e+40,\n",
       "       2.66145125e+40, 2.98694709e+40])"
      ]
     },
     "execution_count": 10,
     "metadata": {},
     "output_type": "execute_result"
    }
   ],
   "source": [
    "ALL_LIMIT[1]"
   ]
  },
  {
   "cell_type": "code",
   "execution_count": 8,
   "metadata": {},
   "outputs": [
    {
     "data": {
      "text/plain": [
       "array([1.15624718e+00, 1.05981759e+00, 9.53325905e+38, 0.00000000e+00,\n",
       "       4.00000000e+00])"
      ]
     },
     "execution_count": 8,
     "metadata": {},
     "output_type": "execute_result"
    }
   ],
   "source": [
    "p_state[P_SECOND_GMEAN : P_PROFIT_MULTI]"
   ]
  },
  {
   "cell_type": "code",
   "execution_count": null,
   "metadata": {},
   "outputs": [],
   "source": [
    "\n",
    "\n",
    "@njit()\n",
    "def initEnv():\n",
    "    env_state = np.zeros(ENV_LENGTH)\n",
    "\n",
    "    env_state[ENV_PLAYER_CAN_INVEST : ENV_PLAYER_CAN_INVEST + NUMBER_PLAYER] = 1\n",
    "\n",
    "    ids = np.random.choice(ALL_INDEX, 2, replace= False)\n",
    "    env_state[ENV_ALL_IN4_FIRST : ENV_ALL_IN4_SECOND] = np.concatenate((ALL_PROFIT[ids[0]], ALL_VALUE[ids[0]], ALL_RANK_NOT_INVEST[ids[0]], ALL_LIMIT[ids[0]]))\n",
    "    env_state[ENV_ALL_IN4_SECOND : ] = np.concatenate((ALL_PROFIT[ids[1]], ALL_VALUE[ids[1]], ALL_RANK_NOT_INVEST[ids[1]], ALL_LIMIT[ids[1]]))\n",
    "    env_state[ENV_CURRENT_QUARTER] = START_QUARTER\n",
    "\n",
    "    #lịch sử profit là tính đến 4 quý trước quý hiện tại\n",
    "    env_state[ENV_FIRST_HISTORY : ENV_FIRST_GMEAN] = env_state[ENV_ALL_IN4_FIRST : ENV_ALL_IN4_FIRST + NUMBER_QUARTER][: NUMBER_HISTORY]\n",
    "    env_state[ENV_FIRST_GMEAN] = gmean( env_state[ENV_ALL_IN4_FIRST : ENV_ALL_IN4_FIRST + NUMBER_QUARTER][: NUMBER_HISTORY])\n",
    "    env_state[ENV_FIRST_HMEAN] = hmean( env_state[ENV_ALL_IN4_FIRST : ENV_ALL_IN4_FIRST + NUMBER_QUARTER][: NUMBER_HISTORY])\n",
    "    env_state[ENV_FIRST_RANK_NOT_INVEST] = env_state[int(ENV_ALL_IN4_FIRST + NUMBER_QUARTER * 2 + env_state[ENV_CURRENT_QUARTER])]\n",
    "    env_state[ENV_FIRST_LIMIT] = env_state[int(ENV_ALL_IN4_FIRST + NUMBER_QUARTER * 3 + env_state[ENV_CURRENT_QUARTER])]\n",
    "    env_state[ENV_FIRST_VALUE] = env_state[int(ENV_ALL_IN4_FIRST + NUMBER_QUARTER * 1 + env_state[ENV_CURRENT_QUARTER])]\n",
    "    \n",
    "    env_state[ENV_SECOND_HISTORY : ENV_SECOND_GMEAN] = env_state[ENV_ALL_IN4_SECOND : ENV_ALL_IN4_SECOND + NUMBER_QUARTER][: NUMBER_HISTORY]\n",
    "    env_state[ENV_SECOND_GMEAN] = gmean( env_state[ENV_ALL_IN4_SECOND : ENV_ALL_IN4_SECOND + NUMBER_QUARTER][: NUMBER_HISTORY])\n",
    "    env_state[ENV_SECOND_HMEAN] = hmean( env_state[ENV_ALL_IN4_SECOND : ENV_ALL_IN4_SECOND + NUMBER_QUARTER][: NUMBER_HISTORY])\n",
    "    env_state[ENV_SECOND_RANK_NOT_INVEST] = env_state[int(ENV_ALL_IN4_SECOND + NUMBER_QUARTER * 2 + env_state[ENV_CURRENT_QUARTER])]\n",
    "    env_state[ENV_SECOND_LIMIT] = env_state[int(ENV_ALL_IN4_SECOND + NUMBER_QUARTER * 3 + env_state[ENV_CURRENT_QUARTER])]\n",
    "    env_state[ENV_SECOND_VALUE] = env_state[int(ENV_ALL_IN4_SECOND + NUMBER_QUARTER * 1 + env_state[ENV_CURRENT_QUARTER])]\n",
    "    \n",
    "\n",
    "    return env_state\n",
    "\n",
    "@njit()\n",
    "def getAgentState(env_state):\n",
    "    id_action = int(env_state[ENV_ID_ACTION])\n",
    "    player_state = np.zeros(P_LENGTH)\n",
    "    player_state[: P_PROFIT_MULTI] = env_state[: ENV_PLAYER_CAN_INVEST]\n",
    "    player_state[P_PROFIT_MULTI : P_PROFIT_MULTI + NUMBER_PLAYER] = np.concatenate((env_state[ENV_PROFIT_AGENT + id_action : ENV_PROFIT_AGENT + NUMBER_PLAYER], env_state[ENV_PROFIT_AGENT : ENV_PROFIT_AGENT+ id_action ]))\n",
    "    player_state[P_CHECK_END] = env_state[ENV_CHECK_END]\n",
    "    player_state[P_PLAYER_CAN_INVEST] = env_state[ENV_PLAYER_CAN_INVEST + id_action]\n",
    "\n",
    "    player_state[P_UPDATE_RESULT : P_UPDATE_RESULT + NUMBER_PLAYER] = np.concatenate((env_state[ENV_UPDATE_RESULT + id_action : ENV_UPDATE_RESULT + NUMBER_PLAYER], env_state[ENV_UPDATE_RESULT : ENV_UPDATE_RESULT + id_action]))\n",
    "\n",
    "    return player_state\n",
    "\n",
    "@njit()\n",
    "def getReward(player_state):\n",
    "    value_return = -1\n",
    "    if player_state[P_CHECK_END] == 0:\n",
    "        return value_return\n",
    "    else:\n",
    "        result = player_state[P_PROFIT_MULTI : P_PROFIT_MULTI + NUMBER_PLAYER]\n",
    "        max_ = np.max(result)\n",
    "        if np.argmax(player_state[P_PROFIT_MULTI : P_PROFIT_MULTI + NUMBER_PLAYER]) != 0:\n",
    "            return 0\n",
    "        else:\n",
    "            if len(np.where(result == max_)[0]) > 1:\n",
    "                return 0\n",
    "            else:\n",
    "                return 1\n",
    "\n",
    "@njit()\n",
    "def check_winner(env_state):\n",
    "    result = env_state[ENV_PROFIT_AGENT : ENV_PROFIT_AGENT + NUMBER_PLAYER]\n",
    "    winner = np.argmax(result)\n",
    "    return winner\n",
    "\n",
    "\n",
    "@njit()\n",
    "def getValidActions(player_state):\n",
    "    list_action_return = np.zeros(AMOUNT_ACTION)\n",
    "    if player_state[P_PLAYER_CAN_INVEST] == 1:\n",
    "        list_action_return[:] = 1\n",
    "    else:\n",
    "        list_action_return[0] = 1\n",
    "    return list_action_return\n",
    "\n",
    "@njit()\n",
    "def getActionSize():\n",
    "    return 3\n",
    "\n",
    "@njit()\n",
    "def getAgentSize():\n",
    "    return 2\n",
    "\n",
    "@njit()\n",
    "def getStateSize():\n",
    "    return 54\n",
    "\n",
    "@njit()\n",
    "def system_check_end(env_state):\n",
    "    if env_state[ENV_CURRENT_QUARTER] > NUMBER_QUARTER:\n",
    "        return False\n",
    "    return True\n",
    "\n",
    "@njit()\n",
    "def stepEnv(env_state, action):\n",
    "    id_action = int(env_state[ENV_ID_ACTION])\n",
    "    #cập nhật giá trị người chơi\n",
    "    if env_state[ENV_PLAYER_CAN_INVEST + id_action] == 1:\n",
    "        #xử lí action \n",
    "        if action != 0:\n",
    "            if action == 1:\n",
    "                env_state[ENV_PROFIT_DELAY_AGENT + id_action] = env_state[ENV_ALL_IN4_FIRST + int(env_state[ENV_CURRENT_QUARTER])]\n",
    "            elif action == 2:\n",
    "                env_state[ENV_PROFIT_DELAY_AGENT + id_action] = env_state[ENV_ALL_IN4_SECOND + int(env_state[ENV_CURRENT_QUARTER])]\n",
    "            #cập nhật trạng thái đầu tư của người chơi\n",
    "            env_state[ENV_PLAYER_CAN_INVEST + id_action] = 0\n",
    "            env_state[ENV_UPDATE_RESULT + id_action] = 0\n",
    "            env_state[ENV_COUNT_DELAY_AGENT + id_action] = 0\n",
    "        # else:\n",
    "        #     x = 0\n",
    "\n",
    "    else:\n",
    "        #cập nhật đếm số quý agent chờ\n",
    "        env_state[ENV_COUNT_DELAY_AGENT + id_action] += 1\n",
    "\n",
    "    \n",
    "\n",
    "    \n",
    "    #kiểm tra xem tất cả người chơi action hết chưa để nhảy quý, nếu action hết rồi thì cập nhật lợi nhuận nếu có, cập nhật quý mới và các thông tin về profit, ngưỡng, value\n",
    "    env_state[ENV_COUNT_PLAYER_ACTION] += 1   \n",
    "    if env_state[ENV_COUNT_PLAYER_ACTION] == NUMBER_PLAYER:\n",
    "        #kiểm tra xem có ai đang chờ update lợi nhuận ko:\n",
    "        profit_delay_agent = env_state[ENV_PROFIT_DELAY_AGENT : ENV_PROFIT_DELAY_AGENT + NUMBER_PLAYER].copy()\n",
    "        done_delay = env_state[ENV_COUNT_DELAY_AGENT : ENV_COUNT_DELAY_AGENT + NUMBER_PLAYER].copy()\n",
    "        update_result = env_state[ENV_UPDATE_RESULT : ENV_UPDATE_RESULT + NUMBER_PLAYER].copy()\n",
    "        player_can_invest = env_state[ENV_PLAYER_CAN_INVEST : ENV_PLAYER_CAN_INVEST + NUMBER_PLAYER].copy()\n",
    "\n",
    "        player_need_update = np.where(done_delay == 4)[0]\n",
    "\n",
    "        update_result[player_need_update] = 1\n",
    "        player_can_invest[player_need_update] = 1\n",
    "\n",
    "        profit_use_update = np.ones(NUMBER_PLAYER)\n",
    "        profit_use_update[player_need_update] = profit_delay_agent[player_need_update]\n",
    "\n",
    "        profit_delay_agent[player_need_update] = -1\n",
    "        #cập nhật tích lợi nhuận\n",
    "        env_state[ENV_PROFIT_AGENT : ENV_PROFIT_AGENT + NUMBER_PLAYER] *= profit_use_update\n",
    "        #cập nhật trạng thái cập nhật\n",
    "        env_state[ENV_UPDATE_RESULT : ENV_UPDATE_RESULT + NUMBER_PLAYER] = update_result\n",
    "        #cập nhật profit delay\n",
    "        env_state[ENV_PROFIT_DELAY_AGENT : ENV_PROFIT_DELAY_AGENT + NUMBER_PLAYER] = profit_delay_agent\n",
    "        #cập nhật trạng thái khả năng đầu tư\n",
    "        env_state[ENV_PLAYER_CAN_INVEST : ENV_PLAYER_CAN_INVEST + NUMBER_PLAYER] = player_can_invest\n",
    "\n",
    "        #cập nhật quý mới và các thông tin về profit, ngưỡng, value, history, gmean, hmean, ranknotinvest\n",
    "        env_state[ENV_CURRENT_QUARTER] += 1\n",
    "        curent_quarter_history = int(env_state[ENV_CURRENT_QUARTER]) - QUARTER_PER_CYCLE\n",
    "\n",
    "        #lịch sử profit là tính đến 4 quý trước quý hiện tại\n",
    "        env_state[ENV_FIRST_HISTORY : ENV_FIRST_GMEAN] = env_state[ENV_ALL_IN4_FIRST : ENV_ALL_IN4_FIRST + NUMBER_QUARTER][curent_quarter_history - NUMBER_HISTORY: curent_quarter_history]\n",
    "        env_state[ENV_FIRST_GMEAN] = gmean( env_state[ENV_ALL_IN4_FIRST : ENV_ALL_IN4_FIRST + NUMBER_QUARTER][: curent_quarter_history])\n",
    "        env_state[ENV_FIRST_HMEAN] = hmean( env_state[ENV_ALL_IN4_FIRST : ENV_ALL_IN4_FIRST + NUMBER_QUARTER][: curent_quarter_history])\n",
    "        env_state[ENV_FIRST_RANK_NOT_INVEST] = env_state[int(ENV_ALL_IN4_FIRST + NUMBER_QUARTER * 2 + env_state[ENV_CURRENT_QUARTER])]\n",
    "        env_state[ENV_FIRST_LIMIT] = env_state[int(ENV_ALL_IN4_FIRST + NUMBER_QUARTER * 3 + env_state[ENV_CURRENT_QUARTER])]\n",
    "        env_state[ENV_FIRST_VALUE] = env_state[int(ENV_ALL_IN4_FIRST + NUMBER_QUARTER * 1 + env_state[ENV_CURRENT_QUARTER])]\n",
    "        \n",
    "        env_state[ENV_SECOND_HISTORY : ENV_SECOND_GMEAN] = env_state[ENV_ALL_IN4_SECOND : ENV_ALL_IN4_SECOND + NUMBER_QUARTER][curent_quarter_history - NUMBER_HISTORY: curent_quarter_history]\n",
    "        env_state[ENV_SECOND_GMEAN] = gmean( env_state[ENV_ALL_IN4_SECOND : ENV_ALL_IN4_SECOND + NUMBER_QUARTER][: curent_quarter_history])\n",
    "        env_state[ENV_SECOND_HMEAN] = hmean( env_state[ENV_ALL_IN4_SECOND : ENV_ALL_IN4_SECOND + NUMBER_QUARTER][: curent_quarter_history])\n",
    "        env_state[ENV_SECOND_RANK_NOT_INVEST] = env_state[int(ENV_ALL_IN4_SECOND + NUMBER_QUARTER * 2 + env_state[ENV_CURRENT_QUARTER])]\n",
    "        env_state[ENV_SECOND_LIMIT] = env_state[int(ENV_ALL_IN4_SECOND + NUMBER_QUARTER * 3 + env_state[ENV_CURRENT_QUARTER])]\n",
    "        env_state[ENV_SECOND_VALUE] = env_state[int(ENV_ALL_IN4_SECOND + NUMBER_QUARTER * 1 + env_state[ENV_CURRENT_QUARTER])]\n",
    "    \n",
    "        #reset lại đếm người chơi quý mới\n",
    "        env_state[ENV_COUNT_PLAYER_ACTION] = 0\n",
    "    \n",
    "    #chuyển người chơi\n",
    "    env_state[ENV_ID_ACTION] = int(env_state[ENV_ID_ACTION] + 1) % NUMBER_PLAYER\n",
    "\n",
    "    return env_state\n",
    "\n",
    "\n",
    "\n",
    "def one_game(list_player, per_file):\n",
    "    env_state = initEnv()\n",
    "    count_turn = 0\n",
    "    while system_check_end(env_state) and count_turn < 2000:\n",
    "        p_id_action = int(env_state[ENV_ID_ACTION])\n",
    "        p_state = getAgentState(env_state)\n",
    "        action, per_file = list_player[p_id_action](p_state, per_file)\n",
    "        list_action = getValidActions(p_state)\n",
    "        if list_action[action] != 1:\n",
    "            raise Exception(\"action ko hợp lệ\")\n",
    "        env_state = stepEnv(env_state, action)\n",
    "        # print(env_state)\n",
    "        count_turn += 1\n",
    "\n",
    "    env_state[ENV_CHECK_END] = 1\n",
    "    winner = check_winner(env_state)                        \n",
    "    for id_player in range(NUMBER_PLAYER):\n",
    "        env_state[ENV_ID_ACTION] = id_player\n",
    "        p_state = getAgentState(env_state)\n",
    "        action, per_file = list_player[id_player](p_state, per_file)\n",
    "    \n",
    "    return winner, per_file\n",
    "\n",
    "def normal_main(list_player, times, file_per):\n",
    "    count = np.zeros(len(list_player)+1)\n",
    "    all_id_player = np.arange(len(list_player))\n",
    "    for van in range(times):\n",
    "        shuffle = np.random.choice(all_id_player, NUMBER_PLAYER, replace=False)\n",
    "        shuffle_player = [list_player[shuffle[0]], list_player[shuffle[1]], list_player[shuffle[2]], list_player[shuffle[3]], list_player[shuffle[4]]]\n",
    "        winner, file_per = one_game(shuffle_player, file_per)\n",
    "        if winner == -1:\n",
    "            count[winner] += 1\n",
    "        else:\n",
    "            count[shuffle[winner]] += 1\n",
    "    return list(count.astype(np.int64)), file_per\n",
    "\n",
    "\n",
    "\n",
    "\n",
    "\n",
    "\n",
    "\n"
   ]
  },
  {
   "cell_type": "code",
   "execution_count": 2,
   "metadata": {},
   "outputs": [
    {
     "data": {
      "text/plain": [
       "54"
      ]
     },
     "execution_count": 2,
     "metadata": {},
     "output_type": "execute_result"
    }
   ],
   "source": [
    "P_LENGTH"
   ]
  },
  {
   "cell_type": "code",
   "execution_count": 2,
   "metadata": {},
   "outputs": [
    {
     "data": {
      "text/plain": [
       "array([1, 2, 3, 2, 3, 4, 1, 3, 1, 3])"
      ]
     },
     "execution_count": 2,
     "metadata": {},
     "output_type": "execute_result"
    }
   ],
   "source": [
    "a = np.random.randint(1,5,10)\n",
    "a"
   ]
  },
  {
   "cell_type": "code",
   "execution_count": 3,
   "metadata": {},
   "outputs": [
    {
     "data": {
      "text/plain": [
       "array([1, 2, 0, 2, 0, 4, 1, 0, 1, 0])"
      ]
     },
     "execution_count": 3,
     "metadata": {},
     "output_type": "execute_result"
    }
   ],
   "source": [
    "a[a == 3] = 0\n",
    "a"
   ]
  },
  {
   "cell_type": "code",
   "execution_count": null,
   "metadata": {},
   "outputs": [],
   "source": []
  }
 ],
 "metadata": {
  "kernelspec": {
   "display_name": "Python 3",
   "language": "python",
   "name": "python3"
  },
  "language_info": {
   "codemirror_mode": {
    "name": "ipython",
    "version": 3
   },
   "file_extension": ".py",
   "mimetype": "text/x-python",
   "name": "python",
   "nbconvert_exporter": "python",
   "pygments_lexer": "ipython3",
   "version": "3.10.4"
  },
  "orig_nbformat": 4,
  "vscode": {
   "interpreter": {
    "hash": "a42ccb73e7d9bfdf27e036f1d2b8b681e55fc0743cc5586bc2474d4a60f4b886"
   }
  }
 },
 "nbformat": 4,
 "nbformat_minor": 2
}
